{
 "cells": [
  {
   "cell_type": "markdown",
   "metadata": {},
   "source": [
    "# Cure Kinetics (21 points)"
   ]
  },
  {
   "cell_type": "markdown",
   "metadata": {},
   "source": [
    "#### Thermoset resins, like epoxy, cure via chemical reactions. These reactions lead to covalent bonds being formed between monomers, forming the polymer. This process of curing is described as the degree of cure $\\alpha$. Before any covalent bond is formed, the material exists solely out of monomers. In this case, it can be said that no convergence has happened and thus $\\alpha = 0$. After adding hardener, the bonding of these monomers begins to form polymer chains. Once all monomers are attached to a polymer chain, via the mentioned covalent bonds, it can be said that the degree of cure $\\alpha = 1$.\n",
    "\n",
    "#### Chemical reactions occur through contact of two reactants. If these two reactants have more kinetic energy, they vibrate more. Then, it can be assumed that the number of collisions between two neighboring reactents will increase as well. Since temperature is movement on the microscale, an increase in temperature will have an effect on the curing of the thermoset. Also, when more time is given to two reactants, the probability of a necessary collision for bonding increases.\n",
    "#### Therefore, we can say that the degree of cure $\\alpha$ is a function of both temperature and time. $$\\alpha = f(T,t)$$"
   ]
  },
  {
   "cell_type": "markdown",
   "metadata": {},
   "source": [
    "#### Cure kinetics is concerned with the rates of the chemical reactions in a curing process. This is important, since the cure kinetics can help predict the thermoset cure and therefore also determines the manufacturing process and (partially) the final material properties. When cure kinetics are understood, they can be used to predict the degree of cure $\\alpha$ of a certain process. To make a prediction like this, DSC measurement data can be used. The DSC process is explained in the lecture."
   ]
  },
  {
   "cell_type": "markdown",
   "metadata": {},
   "source": [
    "### Question 1 (1 point)\n",
    "#### Attached are several .txt files which contain raw isothermal DSC measurements for different temperatures. In the cell below, plot the relevant DSC measurement data for all of these cases in a single figure. Don't forget to lable the axis (ylabel = H[W/g]), include units, and add a legend.\n",
    "#### Note: if you edit the .txt files, be sure to include them when handing in this assignment."
   ]
  },
  {
   "cell_type": "code",
   "execution_count": 6,
   "metadata": {},
   "outputs": [],
   "source": [
    "#import packages here\n",
    "import numpy as np\n",
    "import matplotlib.pyplot as plt\n",
    "import scipy\n",
    "import scipy.integrate as integrate"
   ]
  },
  {
   "cell_type": "code",
   "execution_count": 14,
   "metadata": {},
   "outputs": [],
   "source": [
    "#define masses of each specimen:\n",
    "m1 = 14.400 #[mg]\n",
    "m2 = 10.400 #[mg]\n",
    "m3 = 13.700 #[mg]\n",
    "\n",
    "\n",
    "## Read in 'lme_0_11.txt'\n",
    "f = open(r'lme_0_11.txt','r')\n",
    "lines = f.readlines()\n",
    "f.close()\n",
    "lines = lines[127:14525] #remove first lines without data\n",
    "data_lst_11 = []\n",
    "t11 = []\n",
    "for i,line in enumerate(lines):\n",
    "    line = line.strip('\\n').strip(' ').split('\\t')\n",
    "    line = line[1::]\n",
    "    if float(line[1])>0:\n",
    "        data_lst_11.append(float(line[1]))\n",
    "        t11.append(float(line[0]))\n",
    "\n",
    "t11= np.array(t11)\n",
    "data_arr_11 = np.array(data_lst_11)\n",
    "\n",
    "\n",
    "## Read in 'lme_0_12b.txt'\n",
    "f = open(r'lme_0_12b.txt','r')\n",
    "lines = f.readlines()\n",
    "f.close()\n",
    "lines = lines[127:28865] #remove first lines without data\n",
    "data_lst_12b = []\n",
    "t12b = []\n",
    "for i,line in enumerate(lines):\n",
    "    line = line.strip('\\n').strip(' ').split('\\t')\n",
    "    line = line[1::]\n",
    "    if float(line[1])>0:\n",
    "        data_lst_12b.append(float(line[1]))\n",
    "        t12b.append(float(line[0]))\n",
    "\n",
    "t12b = np.array(t12b)\n",
    "data_arr_12b = np.array(data_lst_12b)\n",
    "\n",
    "\n",
    "## Read in 'lme_0_12b.txt'\n",
    "f = open(r'LME_0_13@161014121902.txt','r')\n",
    "lines = f.readlines()\n",
    "f.close()\n",
    "lines = lines[277:86490] #remove first lines without data\n",
    "\n",
    "data_lst_13 = []\n",
    "t13 = []\n",
    "for i,line in enumerate(lines):\n",
    "    line = line.strip('\\n').strip(' ').split('\\t')\n",
    "    line = line[1::]\n",
    "    if float(line[1])>0:\n",
    "        data_lst_13.append(float(line[1]))\n",
    "        t13.append(float(line[0]))\n",
    "\n",
    "t13 = np.array(t13)\n",
    "data_arr_13 = np.array(data_lst_13)\n",
    "\n",
    "\n"
   ]
  },
  {
   "cell_type": "code",
   "execution_count": 15,
   "outputs": [
    {
     "data": {
      "text/plain": "<Figure size 432x288 with 1 Axes>",
      "image/png": "[encoded data removed]"
     },
     "metadata": {
      "needs_background": "light"
     },
     "output_type": "display_data"
    }
   ],
   "source": [
    "### plot the data\n",
    "# plt.subplot(221)\n",
    "plt.plot(t11,data_arr_11,label='Unsubtracted heat flow 11')\n",
    "plt.plot(t12b,data_arr_12b,label='Unsubtracted heat flow 12b')\n",
    "plt.plot(t13,data_arr_13,label='Unsubtracted heat flow 13')\n",
    "plt.legend()\n",
    "plt.grid(True)\n",
    "plt.ylabel('H [W/g]')\n",
    "plt.xlabel('Time [s]')\n",
    "plt.show()"
   ],
   "metadata": {
    "collapsed": false,
    "pycharm": {
     "name": "#%%\n"
    }
   }
  },
  {
   "cell_type": "markdown",
   "source": [],
   "metadata": {
    "collapsed": false
   }
  },
  {
   "cell_type": "markdown",
   "metadata": {},
   "source": [
    "### Question 2 (2 points)\n",
    "#### In the cell below, explain why and how isothermal DSC measurement data can be related to the curing rate of a thermoset resin. What happens at the peak?"
   ]
  },
  {
   "cell_type": "markdown",
   "metadata": {},
   "source": []
  },
  {
   "cell_type": "markdown",
   "metadata": {},
   "source": [
    "#### As mentioned, the isothermal DSC data you just plotted can be used to obtain an estimation of degree of cure $\\alpha$ vs. time $t$. To do this, it first has to be assumed that the heatflow is proportional to the degree of cure. $$\\Delta H_{max} \\equiv \\alpha = 1$$\n",
    "#### Then, this assumption is used to normalize the heatflow measurement. This normalized heatflow can now be related to the curing rate. $$\\frac{d\\alpha}{dt} = \\frac{1}{\\Delta H{max}} \\frac{dH(t)}{dt}$$\n",
    "#### Finally, integrating this result leads to the relationship of the degree of cure $\\alpha$ vs. time $t$."
   ]
  },
  {
   "cell_type": "markdown",
   "metadata": {},
   "source": [
    "### Question 3 (4 points)\n",
    "#### Use the information above to plot the degree of cure $\\alpha$ vs. time $t$, using the provided data. Plot all cases in a single figure. Make sure to plot over a time interval which suits the results, include a legend and axes labels with units."
   ]
  },
  {
   "cell_type": "code",
   "execution_count": 22,
   "metadata": {},
   "outputs": [
    {
     "data": {
      "text/plain": "<Figure size 432x288 with 1 Axes>",
      "image/png": "[encoded data removed]"
     },
     "metadata": {
      "needs_background": "light"
     },
     "output_type": "display_data"
    }
   ],
   "source": [
    "#divide Data by their corresponding masses to get dH/dt\n",
    "y11 = data_arr_11/m1\n",
    "#Then integrate and cumulate to get alpha\n",
    "alpha11 = integrate.cumulative_trapezoid(y11,t11)\n",
    "\n",
    "\n",
    "\n",
    "y12 = data_arr_12b/m2\n",
    "alpha12 = integrate.cumulative_trapezoid(y12,t12b)\n",
    "\n",
    "\n",
    "y13 = data_arr_13/m3\n",
    "alpha13 = integrate.cumulative_trapezoid(y13,t13)\n",
    "\n",
    "#divide alphas by absolute maximums\n",
    "H_max = max(np.max(alpha11),np.max(alpha12),np.max(alpha13))\n",
    "alpha11 /= H_max\n",
    "alpha12 /= H_max\n",
    "alpha13 /= H_max\n",
    "\n",
    "plt.plot(t11[1::],alpha11,label='$\\\\alpha_{11}$')\n",
    "plt.plot(t12b[1::],alpha12,label='$\\\\alpha_{12}$')\n",
    "plt.plot(t13[1::],alpha13,label='$\\\\alpha_{13}$')\n",
    "plt.xlabel(f'Time [m]')\n",
    "plt.ylabel(f'$\\\\alpha$')\n",
    "plt.legend()\n",
    "plt.grid(True)\n",
    "plt.show()\n",
    "#integrate over dt"
   ]
  },
  {
   "cell_type": "markdown",
   "metadata": {},
   "source": [
    "### Question 4 (2 points)\n",
    "#### From your results of Question 3, you now have graphs which show degree of cure $\\alpha$ vs. time $t$ for three different temperatures. Comment on the maximum degree of cure, which should be interpretable from the graphs. Why is the final degree of cure lower for a lower curing temperature?"
   ]
  },
  {
   "cell_type": "markdown",
   "metadata": {},
   "source": [
    "Answer here"
   ]
  },
  {
   "cell_type": "markdown",
   "metadata": {},
   "source": [
    "#### Several kinetics models exist which predict the curing rate of a resin. An example of one of the widely used models is the Kamal model, shown below. $$\\frac{d\\alpha}{dt} = (k_1 + k_2 \\cdot \\alpha^m)(1 - \\alpha)^n$$\n",
    "#### Where $k_1$ and $k_2$ are rate constants, and  $m$ and $n$ are reaction orders."
   ]
  },
  {
   "cell_type": "markdown",
   "metadata": {},
   "source": [
    "### Question 5 (4 points)\n",
    "#### Use the experimental isothermal DSC data to estimate the parameters of the Kamal model. After obtaining these parameters, use them to create plots of conversion rate $d\\alpha/dt$ vs. degree of conversion $\\alpha$. Report the estimated parameters. Compare the results with the experimental results of $d\\alpha/dt$ vs. $\\alpha$. Do this for all 3 isothermal measurements.\n",
    "#### Tip: Parameters can be estimated by: 1. making an inital guess of the parameters. 2. Minimizing the sum of squared errors between guess and data (fit to data), where $m, n, k1, k2$ should be the same for the three datasets."
   ]
  },
  {
   "cell_type": "code",
   "execution_count": 40,
   "metadata": {},
   "outputs": [],
   "source": []
  },
  {
   "cell_type": "markdown",
   "metadata": {},
   "source": [
    "### Question 6 (4 points)\n",
    "#### As mentioned, the Kamal model is an example of a widely used cure kinetics model. Search online for a different cure kinetics model. Briefly discuss this model and its parameters. Now, estimate the parameters of your chosen model and compare the resulting plot to the Kamal model and the experimental data in the form of graphs. Plot all graphs in a single figure for good comparison.\n",
    "#### NB: this time only the 150C case has to be considered."
   ]
  },
  {
   "cell_type": "code",
   "execution_count": 40,
   "metadata": {},
   "outputs": [],
   "source": []
  },
  {
   "cell_type": "markdown",
   "metadata": {},
   "source": [
    "#### As adressed at the start of this Notebook, thermoset polymers need to undergo a curing cycle to harden. During this curing cycle, covalent bonds are formed between monomers, forming the polymers. When not many bonds (crosslinks) have formed, the glass transition temperature of the material is relatively low. Once bonds form, the glass transition temperature increases. This can be indirectly observed by noticing that there is a change in state of a thermoset resin during the curing cycle."
   ]
  },
  {
   "cell_type": "markdown",
   "metadata": {},
   "source": [
    "### Question 7 (2 points)\n",
    "#### Describe the glass transition temperature. Explain what happens (on a microscale level) with a material when it transitions through this value. Why is this value dependent on the degree of cure?"
   ]
  },
  {
   "cell_type": "markdown",
   "metadata": {},
   "source": [
    "Answer here"
   ]
  },
  {
   "cell_type": "markdown",
   "metadata": {},
   "source": [
    "#### For a thermosetting polymer, the following relation can be derived between the glass transition temperature $T_g$ and conversion $\\alpha$. Equation 5 is called the Di Benedetto equation. \n",
    "$$ \\frac{T_g - T_{g0}}{T_{g\\infty} - T_{g0}} =  \\frac{\\lambda \\alpha}{1 - (1 - \\lambda)\\alpha}  $$\n",
    "\n",
    "#### For which $\\lambda = \\frac{\\Delta C_p}{\\Delta C_{p0}}$ is the ratio of the heat capacities of the fully reacted system and the initial system (therefore $\\lambda < 1$), $T_{g\\infty}$ is the Tg of the fully reacted system, and $T_{g0}$ is the Tg of the initial system."
   ]
  },
  {
   "cell_type": "markdown",
   "metadata": {},
   "source": [
    "### Question 8 (2 points)\n",
    "\n",
    "#### Attached is a dataset containing Tg vs. convergence. The tested material is Airstone 780E.\n",
    "#### Write a single function which takes the material characteristics $T_{g\\infty}$, $T_{g0}$, and $\\lambda$ as input arguments and returns a graph of the glass transition temperature $T_g$ vs. convergence $\\alpha$. Then, plot this function and the Airstone 780E data in the same graph to compare the analytical model with the measurements.\n",
    "\n",
    "#### $T_{g0}$ = -54.577, $T_{g\\infty}$ = 88.853, $\\lambda$ = 0.476."
   ]
  },
  {
   "cell_type": "code",
   "execution_count": 40,
   "metadata": {},
   "outputs": [],
   "source": []
  },
  {
   "cell_type": "code",
   "execution_count": 40,
   "metadata": {},
   "outputs": [],
   "source": []
  }
 ],
 "metadata": {
  "kernelspec": {
   "display_name": "Python 3",
   "language": "python",
   "name": "python3"
  },
  "language_info": {
   "codemirror_mode": {
    "name": "ipython",
    "version": 3
   },
   "file_extension": ".py",
   "mimetype": "text/x-python",
   "name": "python",
   "nbconvert_exporter": "python",
   "pygments_lexer": "ipython3",
   "version": "3.6.6"
  },
  "latex_envs": {
   "LaTeX_envs_menu_present": true,
   "autoclose": false,
   "autocomplete": true,
   "bibliofile": "biblio.bib",
   "cite_by": "apalike",
   "current_citInitial": 1,
   "eqLabelWithNumbers": true,
   "eqNumInitial": 1,
   "hotkeys": {
    "equation": "Ctrl-E",
    "itemize": "Ctrl-I"
   },
   "labels_anchors": false,
   "latex_user_defs": false,
   "report_style_numbering": false,
   "user_envs_cfg": false
  }
 },
 "nbformat": 4,
 "nbformat_minor": 2
}